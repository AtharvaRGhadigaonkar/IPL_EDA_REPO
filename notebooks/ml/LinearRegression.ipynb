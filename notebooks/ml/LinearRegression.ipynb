{
 "cells": [
  {
   "cell_type": "code",
   "execution_count": 1,
   "id": "aa94a0c1-cbe5-4b0a-b072-b72cd3150520",
   "metadata": {},
   "outputs": [],
   "source": [
    "import numpy as np\n",
    "import pandas as pd\n",
    "import seaborn as sns\n",
    "import warnings\n",
    "warnings.simplefilter(action='ignore', category=FutureWarning)"
   ]
  },
  {
   "cell_type": "code",
   "execution_count": 2,
   "id": "ef9a1833-dbd4-4e2b-9ad9-0343928f8e1c",
   "metadata": {},
   "outputs": [],
   "source": [
    "from sklearn.model_selection import train_test_split\n",
    "from sklearn.linear_model import LinearRegression, Ridge, Lasso\n",
    "from sklearn.metrics import mean_squared_error, r2_score\n",
    "from sklearn.preprocessing import OneHotEncoder, StandardScaler\n",
    "from sklearn.compose import ColumnTransformer\n",
    "from sklearn.pipeline import Pipeline"
   ]
  },
  {
   "cell_type": "code",
   "execution_count": 3,
   "id": "ec8c3e2b-7724-4f53-94de-b94c187d5cad",
   "metadata": {},
   "outputs": [],
   "source": [
    "# Selecting features and target\n",
    "df = pd.read_csv(\n",
    "    \"../../data/processed/cleaned_data_deliveries.csv\",\n",
    "    low_memory=False\n",
    ")\n",
    "# X = df[['inning', 'batting_team', 'bowling_team', 'over', 'batter', 'bowler', 'venue']]\n",
    "# y = df['total_runs'] "
   ]
  },
  {
   "cell_type": "code",
   "execution_count": 4,
   "id": "888a090a-1896-4812-a167-0169ff85469c",
   "metadata": {},
   "outputs": [],
   "source": [
    "df.drop(columns=\"Unnamed: 0\",inplace=True)"
   ]
  },
  {
   "cell_type": "code",
   "execution_count": 5,
   "id": "c1e5d102-44bf-41d9-82af-2bfbd23cdfa3",
   "metadata": {},
   "outputs": [
    {
     "data": {
      "text/html": [
       "<div>\n",
       "<style scoped>\n",
       "    .dataframe tbody tr th:only-of-type {\n",
       "        vertical-align: middle;\n",
       "    }\n",
       "\n",
       "    .dataframe tbody tr th {\n",
       "        vertical-align: top;\n",
       "    }\n",
       "\n",
       "    .dataframe thead th {\n",
       "        text-align: right;\n",
       "    }\n",
       "</style>\n",
       "<table border=\"1\" class=\"dataframe\">\n",
       "  <thead>\n",
       "    <tr style=\"text-align: right;\">\n",
       "      <th></th>\n",
       "      <th>match_id</th>\n",
       "      <th>inning</th>\n",
       "      <th>batting_team</th>\n",
       "      <th>bowling_team</th>\n",
       "      <th>over</th>\n",
       "      <th>ball</th>\n",
       "      <th>batter</th>\n",
       "      <th>bowler</th>\n",
       "      <th>non_striker</th>\n",
       "      <th>batsman_runs</th>\n",
       "      <th>...</th>\n",
       "      <th>toss_decision</th>\n",
       "      <th>winner</th>\n",
       "      <th>result</th>\n",
       "      <th>result_margin</th>\n",
       "      <th>target_runs</th>\n",
       "      <th>target_overs</th>\n",
       "      <th>super_over</th>\n",
       "      <th>method</th>\n",
       "      <th>umpire1</th>\n",
       "      <th>umpire2</th>\n",
       "    </tr>\n",
       "  </thead>\n",
       "  <tbody>\n",
       "    <tr>\n",
       "      <th>0</th>\n",
       "      <td>335982</td>\n",
       "      <td>1</td>\n",
       "      <td>KKR</td>\n",
       "      <td>RCB</td>\n",
       "      <td>0</td>\n",
       "      <td>1</td>\n",
       "      <td>SC Ganguly</td>\n",
       "      <td>P Kumar</td>\n",
       "      <td>BB McCullum</td>\n",
       "      <td>0</td>\n",
       "      <td>...</td>\n",
       "      <td>field</td>\n",
       "      <td>KKR</td>\n",
       "      <td>runs</td>\n",
       "      <td>140.0</td>\n",
       "      <td>223.0</td>\n",
       "      <td>20.0</td>\n",
       "      <td>N</td>\n",
       "      <td>No Issues</td>\n",
       "      <td>Asad Rauf</td>\n",
       "      <td>RE Koertzen</td>\n",
       "    </tr>\n",
       "    <tr>\n",
       "      <th>1</th>\n",
       "      <td>335982</td>\n",
       "      <td>1</td>\n",
       "      <td>KKR</td>\n",
       "      <td>RCB</td>\n",
       "      <td>0</td>\n",
       "      <td>2</td>\n",
       "      <td>BB McCullum</td>\n",
       "      <td>P Kumar</td>\n",
       "      <td>SC Ganguly</td>\n",
       "      <td>0</td>\n",
       "      <td>...</td>\n",
       "      <td>field</td>\n",
       "      <td>KKR</td>\n",
       "      <td>runs</td>\n",
       "      <td>140.0</td>\n",
       "      <td>223.0</td>\n",
       "      <td>20.0</td>\n",
       "      <td>N</td>\n",
       "      <td>No Issues</td>\n",
       "      <td>Asad Rauf</td>\n",
       "      <td>RE Koertzen</td>\n",
       "    </tr>\n",
       "    <tr>\n",
       "      <th>2</th>\n",
       "      <td>335982</td>\n",
       "      <td>1</td>\n",
       "      <td>KKR</td>\n",
       "      <td>RCB</td>\n",
       "      <td>0</td>\n",
       "      <td>3</td>\n",
       "      <td>BB McCullum</td>\n",
       "      <td>P Kumar</td>\n",
       "      <td>SC Ganguly</td>\n",
       "      <td>0</td>\n",
       "      <td>...</td>\n",
       "      <td>field</td>\n",
       "      <td>KKR</td>\n",
       "      <td>runs</td>\n",
       "      <td>140.0</td>\n",
       "      <td>223.0</td>\n",
       "      <td>20.0</td>\n",
       "      <td>N</td>\n",
       "      <td>No Issues</td>\n",
       "      <td>Asad Rauf</td>\n",
       "      <td>RE Koertzen</td>\n",
       "    </tr>\n",
       "    <tr>\n",
       "      <th>3</th>\n",
       "      <td>335982</td>\n",
       "      <td>1</td>\n",
       "      <td>KKR</td>\n",
       "      <td>RCB</td>\n",
       "      <td>0</td>\n",
       "      <td>4</td>\n",
       "      <td>BB McCullum</td>\n",
       "      <td>P Kumar</td>\n",
       "      <td>SC Ganguly</td>\n",
       "      <td>0</td>\n",
       "      <td>...</td>\n",
       "      <td>field</td>\n",
       "      <td>KKR</td>\n",
       "      <td>runs</td>\n",
       "      <td>140.0</td>\n",
       "      <td>223.0</td>\n",
       "      <td>20.0</td>\n",
       "      <td>N</td>\n",
       "      <td>No Issues</td>\n",
       "      <td>Asad Rauf</td>\n",
       "      <td>RE Koertzen</td>\n",
       "    </tr>\n",
       "    <tr>\n",
       "      <th>4</th>\n",
       "      <td>335982</td>\n",
       "      <td>1</td>\n",
       "      <td>KKR</td>\n",
       "      <td>RCB</td>\n",
       "      <td>0</td>\n",
       "      <td>5</td>\n",
       "      <td>BB McCullum</td>\n",
       "      <td>P Kumar</td>\n",
       "      <td>SC Ganguly</td>\n",
       "      <td>0</td>\n",
       "      <td>...</td>\n",
       "      <td>field</td>\n",
       "      <td>KKR</td>\n",
       "      <td>runs</td>\n",
       "      <td>140.0</td>\n",
       "      <td>223.0</td>\n",
       "      <td>20.0</td>\n",
       "      <td>N</td>\n",
       "      <td>No Issues</td>\n",
       "      <td>Asad Rauf</td>\n",
       "      <td>RE Koertzen</td>\n",
       "    </tr>\n",
       "  </tbody>\n",
       "</table>\n",
       "<p>5 rows × 33 columns</p>\n",
       "</div>"
      ],
      "text/plain": [
       "   match_id  inning batting_team bowling_team  over  ball       batter  \\\n",
       "0    335982       1          KKR          RCB     0     1   SC Ganguly   \n",
       "1    335982       1          KKR          RCB     0     2  BB McCullum   \n",
       "2    335982       1          KKR          RCB     0     3  BB McCullum   \n",
       "3    335982       1          KKR          RCB     0     4  BB McCullum   \n",
       "4    335982       1          KKR          RCB     0     5  BB McCullum   \n",
       "\n",
       "    bowler  non_striker  batsman_runs  ...  toss_decision  winner result  \\\n",
       "0  P Kumar  BB McCullum             0  ...          field     KKR   runs   \n",
       "1  P Kumar   SC Ganguly             0  ...          field     KKR   runs   \n",
       "2  P Kumar   SC Ganguly             0  ...          field     KKR   runs   \n",
       "3  P Kumar   SC Ganguly             0  ...          field     KKR   runs   \n",
       "4  P Kumar   SC Ganguly             0  ...          field     KKR   runs   \n",
       "\n",
       "   result_margin target_runs target_overs super_over     method    umpire1  \\\n",
       "0          140.0       223.0         20.0          N  No Issues  Asad Rauf   \n",
       "1          140.0       223.0         20.0          N  No Issues  Asad Rauf   \n",
       "2          140.0       223.0         20.0          N  No Issues  Asad Rauf   \n",
       "3          140.0       223.0         20.0          N  No Issues  Asad Rauf   \n",
       "4          140.0       223.0         20.0          N  No Issues  Asad Rauf   \n",
       "\n",
       "       umpire2  \n",
       "0  RE Koertzen  \n",
       "1  RE Koertzen  \n",
       "2  RE Koertzen  \n",
       "3  RE Koertzen  \n",
       "4  RE Koertzen  \n",
       "\n",
       "[5 rows x 33 columns]"
      ]
     },
     "execution_count": 5,
     "metadata": {},
     "output_type": "execute_result"
    }
   ],
   "source": [
    "df.head()"
   ]
  },
  {
   "cell_type": "code",
   "execution_count": 6,
   "id": "bf21d64e-60cd-47a7-b191-76b3c7effd10",
   "metadata": {},
   "outputs": [],
   "source": [
    "for i in [\"batting_team\",'bowling_team','venue']:\n",
    "    df[i] =df[i].astype(\"category\")\n",
    "    df[i] =df[i].cat.codes"
   ]
  },
  {
   "cell_type": "code",
   "execution_count": 7,
   "id": "7279993f-f8ee-4296-bf6f-6fc012b66712",
   "metadata": {},
   "outputs": [],
   "source": [
    "X = df[['inning', 'batting_team', 'bowling_team', 'over','venue']]\n",
    "y = df['total_runs'] "
   ]
  },
  {
   "cell_type": "code",
   "execution_count": 8,
   "id": "5c3c0fbf-c305-4a4f-8be0-6fd4f5f2314a",
   "metadata": {},
   "outputs": [],
   "source": [
    "X_train,X_test,y_train,y_test = train_test_split(X,y,test_size = 0.4,random_state=43)"
   ]
  },
  {
   "cell_type": "code",
   "execution_count": 9,
   "id": "ddca9477-cd23-47a1-a2e4-88bc31790b3f",
   "metadata": {},
   "outputs": [],
   "source": [
    "lr=LinearRegression()"
   ]
  },
  {
   "cell_type": "code",
   "execution_count": 10,
   "id": "7241d268-f9ef-4c1f-a4f7-75c93962cfd3",
   "metadata": {},
   "outputs": [
    {
     "data": {
      "text/html": [
       "<style>#sk-container-id-1 {color: black;background-color: white;}#sk-container-id-1 pre{padding: 0;}#sk-container-id-1 div.sk-toggleable {background-color: white;}#sk-container-id-1 label.sk-toggleable__label {cursor: pointer;display: block;width: 100%;margin-bottom: 0;padding: 0.3em;box-sizing: border-box;text-align: center;}#sk-container-id-1 label.sk-toggleable__label-arrow:before {content: \"▸\";float: left;margin-right: 0.25em;color: #696969;}#sk-container-id-1 label.sk-toggleable__label-arrow:hover:before {color: black;}#sk-container-id-1 div.sk-estimator:hover label.sk-toggleable__label-arrow:before {color: black;}#sk-container-id-1 div.sk-toggleable__content {max-height: 0;max-width: 0;overflow: hidden;text-align: left;background-color: #f0f8ff;}#sk-container-id-1 div.sk-toggleable__content pre {margin: 0.2em;color: black;border-radius: 0.25em;background-color: #f0f8ff;}#sk-container-id-1 input.sk-toggleable__control:checked~div.sk-toggleable__content {max-height: 200px;max-width: 100%;overflow: auto;}#sk-container-id-1 input.sk-toggleable__control:checked~label.sk-toggleable__label-arrow:before {content: \"▾\";}#sk-container-id-1 div.sk-estimator input.sk-toggleable__control:checked~label.sk-toggleable__label {background-color: #d4ebff;}#sk-container-id-1 div.sk-label input.sk-toggleable__control:checked~label.sk-toggleable__label {background-color: #d4ebff;}#sk-container-id-1 input.sk-hidden--visually {border: 0;clip: rect(1px 1px 1px 1px);clip: rect(1px, 1px, 1px, 1px);height: 1px;margin: -1px;overflow: hidden;padding: 0;position: absolute;width: 1px;}#sk-container-id-1 div.sk-estimator {font-family: monospace;background-color: #f0f8ff;border: 1px dotted black;border-radius: 0.25em;box-sizing: border-box;margin-bottom: 0.5em;}#sk-container-id-1 div.sk-estimator:hover {background-color: #d4ebff;}#sk-container-id-1 div.sk-parallel-item::after {content: \"\";width: 100%;border-bottom: 1px solid gray;flex-grow: 1;}#sk-container-id-1 div.sk-label:hover label.sk-toggleable__label {background-color: #d4ebff;}#sk-container-id-1 div.sk-serial::before {content: \"\";position: absolute;border-left: 1px solid gray;box-sizing: border-box;top: 0;bottom: 0;left: 50%;z-index: 0;}#sk-container-id-1 div.sk-serial {display: flex;flex-direction: column;align-items: center;background-color: white;padding-right: 0.2em;padding-left: 0.2em;position: relative;}#sk-container-id-1 div.sk-item {position: relative;z-index: 1;}#sk-container-id-1 div.sk-parallel {display: flex;align-items: stretch;justify-content: center;background-color: white;position: relative;}#sk-container-id-1 div.sk-item::before, #sk-container-id-1 div.sk-parallel-item::before {content: \"\";position: absolute;border-left: 1px solid gray;box-sizing: border-box;top: 0;bottom: 0;left: 50%;z-index: -1;}#sk-container-id-1 div.sk-parallel-item {display: flex;flex-direction: column;z-index: 1;position: relative;background-color: white;}#sk-container-id-1 div.sk-parallel-item:first-child::after {align-self: flex-end;width: 50%;}#sk-container-id-1 div.sk-parallel-item:last-child::after {align-self: flex-start;width: 50%;}#sk-container-id-1 div.sk-parallel-item:only-child::after {width: 0;}#sk-container-id-1 div.sk-dashed-wrapped {border: 1px dashed gray;margin: 0 0.4em 0.5em 0.4em;box-sizing: border-box;padding-bottom: 0.4em;background-color: white;}#sk-container-id-1 div.sk-label label {font-family: monospace;font-weight: bold;display: inline-block;line-height: 1.2em;}#sk-container-id-1 div.sk-label-container {text-align: center;}#sk-container-id-1 div.sk-container {/* jupyter's `normalize.less` sets `[hidden] { display: none; }` but bootstrap.min.css set `[hidden] { display: none !important; }` so we also need the `!important` here to be able to override the default hidden behavior on the sphinx rendered scikit-learn.org. See: https://github.com/scikit-learn/scikit-learn/issues/21755 */display: inline-block !important;position: relative;}#sk-container-id-1 div.sk-text-repr-fallback {display: none;}</style><div id=\"sk-container-id-1\" class=\"sk-top-container\"><div class=\"sk-text-repr-fallback\"><pre>LinearRegression()</pre><b>In a Jupyter environment, please rerun this cell to show the HTML representation or trust the notebook. <br />On GitHub, the HTML representation is unable to render, please try loading this page with nbviewer.org.</b></div><div class=\"sk-container\" hidden><div class=\"sk-item\"><div class=\"sk-estimator sk-toggleable\"><input class=\"sk-toggleable__control sk-hidden--visually\" id=\"sk-estimator-id-1\" type=\"checkbox\" checked><label for=\"sk-estimator-id-1\" class=\"sk-toggleable__label sk-toggleable__label-arrow\">LinearRegression</label><div class=\"sk-toggleable__content\"><pre>LinearRegression()</pre></div></div></div></div></div>"
      ],
      "text/plain": [
       "LinearRegression()"
      ]
     },
     "execution_count": 10,
     "metadata": {},
     "output_type": "execute_result"
    }
   ],
   "source": [
    "lr.fit(X_train,y_train)"
   ]
  },
  {
   "cell_type": "code",
   "execution_count": 11,
   "id": "766b2a9f-6c7f-4469-8ab7-aad6c8269ec3",
   "metadata": {},
   "outputs": [
    {
     "data": {
      "text/plain": [
       "1.1334616815952216"
      ]
     },
     "execution_count": 11,
     "metadata": {},
     "output_type": "execute_result"
    }
   ],
   "source": [
    "c = lr.intercept_\n",
    "c"
   ]
  },
  {
   "cell_type": "code",
   "execution_count": 12,
   "id": "40e74c48-f98b-4bf2-bec0-59ccf261835e",
   "metadata": {},
   "outputs": [
    {
     "data": {
      "text/plain": [
       "array([-0.00581389,  0.00069279,  0.00110922,  0.0227399 , -0.00055003])"
      ]
     },
     "execution_count": 12,
     "metadata": {},
     "output_type": "execute_result"
    }
   ],
   "source": [
    "m = lr.coef_\n",
    "m"
   ]
  },
  {
   "cell_type": "code",
   "execution_count": 13,
   "id": "40dc7fbf-f0bf-47b0-a3b0-da0401ed8b40",
   "metadata": {},
   "outputs": [],
   "source": [
    "y_pred_train = lr.predict(X_train)"
   ]
  },
  {
   "cell_type": "code",
   "execution_count": 14,
   "id": "c3e09d3f-dace-448e-a115-05a9ad4b7e40",
   "metadata": {},
   "outputs": [
    {
     "data": {
      "image/png": "[encoded data removed]",
      "text/plain": [
       "<Figure size 640x480 with 1 Axes>"
      ]
     },
     "metadata": {},
     "output_type": "display_data"
    }
   ],
   "source": [
    "import matplotlib.pyplot as plt\n",
    "plt.scatter(y_train,y_pred_train)\n",
    "plt.show()"
   ]
  },
  {
   "cell_type": "code",
   "execution_count": 15,
   "id": "3d44043f-eb3a-41be-8e40-15164a79666d",
   "metadata": {},
   "outputs": [
    {
     "data": {
      "text/plain": [
       "array([1.46701321, 1.15972554, 1.37637663, ..., 1.3469247 , 1.17566137,\n",
       "       1.43465626])"
      ]
     },
     "execution_count": 15,
     "metadata": {},
     "output_type": "execute_result"
    }
   ],
   "source": [
    "y_pred_train"
   ]
  },
  {
   "cell_type": "code",
   "execution_count": 16,
   "id": "d57c8e70-d7f8-46f2-bfa2-36d36aa49413",
   "metadata": {},
   "outputs": [
    {
     "data": {
      "text/plain": [
       "0.006414478653975819"
      ]
     },
     "execution_count": 16,
     "metadata": {},
     "output_type": "execute_result"
    }
   ],
   "source": [
    "r2_score(y_train,y_pred_train)"
   ]
  },
  {
   "cell_type": "code",
   "execution_count": 17,
   "id": "4fde1744-73a7-450d-9250-e57ec04a805b",
   "metadata": {},
   "outputs": [],
   "source": [
    "df1 = pd.read_csv(\n",
    "    \"../../data/processed/cleaned_data_deliveries.csv\",\n",
    "    low_memory=False\n",
    ")"
   ]
  },
  {
   "cell_type": "code",
   "execution_count": 18,
   "id": "30e60d12-9458-43e2-92da-4bf91304b1ef",
   "metadata": {},
   "outputs": [],
   "source": [
    "df2 = pd.read_csv(\n",
    "    \"../../data/processed/clean_data.csv\",\n",
    "    low_memory=False\n",
    ")"
   ]
  },
  {
   "cell_type": "code",
   "execution_count": 19,
   "id": "1b9b2794-9cee-4a24-9783-71ae58d905bb",
   "metadata": {},
   "outputs": [
    {
     "data": {
      "text/plain": [
       "Index(['Unnamed: 0', 'match_id', 'inning', 'batting_team', 'bowling_team',\n",
       "       'over', 'ball', 'batter', 'bowler', 'non_striker', 'batsman_runs',\n",
       "       'extra_runs', 'total_runs', 'extras_type', 'is_wicket',\n",
       "       'player_dismissed', 'dismissal_kind', 'fielder', 'season', 'date',\n",
       "       'match_type', 'player_of_match', 'venue', 'toss_winner',\n",
       "       'toss_decision', 'winner', 'result', 'result_margin', 'target_runs',\n",
       "       'target_overs', 'super_over', 'method', 'umpire1', 'umpire2'],\n",
       "      dtype='object')"
      ]
     },
     "execution_count": 19,
     "metadata": {},
     "output_type": "execute_result"
    }
   ],
   "source": [
    "df1.columns"
   ]
  },
  {
   "cell_type": "code",
   "execution_count": 20,
   "id": "16d029f2-6b97-4081-9f50-b291b631da8e",
   "metadata": {},
   "outputs": [
    {
     "data": {
      "text/plain": [
       "Index(['Unnamed: 0', 'id', 'season', 'city', 'date', 'player_of_match',\n",
       "       'venue', 'team1', 'team2', 'toss_winner', 'toss_decision', 'winner',\n",
       "       'result', 'result_margin', 'target_runs', 'target_overs', 'super_over',\n",
       "       'umpire1', 'umpire2'],\n",
       "      dtype='object')"
      ]
     },
     "execution_count": 20,
     "metadata": {},
     "output_type": "execute_result"
    }
   ],
   "source": [
    "df2.columns"
   ]
  },
  {
   "cell_type": "code",
   "execution_count": 21,
   "id": "5fc0b1ca-2fdc-4655-b590-6bb7598fb5a7",
   "metadata": {},
   "outputs": [
    {
     "data": {
      "text/plain": [
       "0       223.0\n",
       "1       241.0\n",
       "2       130.0\n",
       "3       166.0\n",
       "4       111.0\n",
       "        ...  \n",
       "1090    215.0\n",
       "1091    160.0\n",
       "1092    173.0\n",
       "1093    176.0\n",
       "1094    114.0\n",
       "Name: target_runs, Length: 1095, dtype: float64"
      ]
     },
     "execution_count": 21,
     "metadata": {},
     "output_type": "execute_result"
    }
   ],
   "source": [
    "df2[\"target_runs\"]"
   ]
  },
  {
   "cell_type": "code",
   "execution_count": 22,
   "id": "8fc0d29f-9bcb-4e66-b245-db4f6fe3aee1",
   "metadata": {},
   "outputs": [],
   "source": [
    "categorical_columns = ['season', 'city', 'venue', 'team1', 'team2', 'toss_winner', 'winner']\n",
    "\n",
    "# One-hot encoding\n",
    "df_encoded = pd.get_dummies(df2, columns=categorical_columns, drop_first=True)"
   ]
  },
  {
   "cell_type": "code",
   "execution_count": 23,
   "id": "d6990971-c61d-447e-a8c8-7867c02380a9",
   "metadata": {},
   "outputs": [],
   "source": [
    "game_data  =df_encoded"
   ]
  },
  {
   "cell_type": "code",
   "execution_count": 28,
   "id": "68c28f85-d309-418d-9ded-2813b1650207",
   "metadata": {},
   "outputs": [],
   "source": [
    "# game_data.drop(columns=\"Unnamed: 0\",inplace=True)\n",
    "a = game_data.columns "
   ]
  },
  {
   "cell_type": "code",
   "execution_count": 37,
   "id": "1876fa48-404a-42b7-9d48-6141b27925d1",
   "metadata": {},
   "outputs": [],
   "source": [
    "# X = game_data[['season', 'city', 'venue', 'team1', 'team2', 'toss_winner', 'winner']]\n",
    "y = game_data['target_runs'] "
   ]
  },
  {
   "cell_type": "code",
   "execution_count": 45,
   "id": "8a17e593-55eb-41d9-a138-d7e99c12e6f3",
   "metadata": {},
   "outputs": [],
   "source": [
    "X=game_data.drop(columns=['id', 'date', 'player_of_match', 'toss_decision', 'result', 'result_margin', 'target_runs', 'target_overs', 'super_over', 'umpire1'\n",
    ",'umpire2','target_runs'])"
   ]
  },
  {
   "cell_type": "code",
   "execution_count": null,
   "id": "bb43e789-8710-4f74-905a-ec7b1196c2c5",
   "metadata": {},
   "outputs": [],
   "source": []
  },
  {
   "cell_type": "code",
   "execution_count": 46,
   "id": "65af66d6-c68f-45f6-9fa0-9c85047326e0",
   "metadata": {},
   "outputs": [],
   "source": [
    "X_train,X_test,y_train,y_test = train_test_split(X,y,test_size = 0.4,random_state=43)"
   ]
  },
  {
   "cell_type": "code",
   "execution_count": 47,
   "id": "64618d1d-fcbc-4dfa-9b25-52b444f04e61",
   "metadata": {},
   "outputs": [
    {
     "data": {
      "text/html": [
       "<style>#sk-container-id-2 {color: black;background-color: white;}#sk-container-id-2 pre{padding: 0;}#sk-container-id-2 div.sk-toggleable {background-color: white;}#sk-container-id-2 label.sk-toggleable__label {cursor: pointer;display: block;width: 100%;margin-bottom: 0;padding: 0.3em;box-sizing: border-box;text-align: center;}#sk-container-id-2 label.sk-toggleable__label-arrow:before {content: \"▸\";float: left;margin-right: 0.25em;color: #696969;}#sk-container-id-2 label.sk-toggleable__label-arrow:hover:before {color: black;}#sk-container-id-2 div.sk-estimator:hover label.sk-toggleable__label-arrow:before {color: black;}#sk-container-id-2 div.sk-toggleable__content {max-height: 0;max-width: 0;overflow: hidden;text-align: left;background-color: #f0f8ff;}#sk-container-id-2 div.sk-toggleable__content pre {margin: 0.2em;color: black;border-radius: 0.25em;background-color: #f0f8ff;}#sk-container-id-2 input.sk-toggleable__control:checked~div.sk-toggleable__content {max-height: 200px;max-width: 100%;overflow: auto;}#sk-container-id-2 input.sk-toggleable__control:checked~label.sk-toggleable__label-arrow:before {content: \"▾\";}#sk-container-id-2 div.sk-estimator input.sk-toggleable__control:checked~label.sk-toggleable__label {background-color: #d4ebff;}#sk-container-id-2 div.sk-label input.sk-toggleable__control:checked~label.sk-toggleable__label {background-color: #d4ebff;}#sk-container-id-2 input.sk-hidden--visually {border: 0;clip: rect(1px 1px 1px 1px);clip: rect(1px, 1px, 1px, 1px);height: 1px;margin: -1px;overflow: hidden;padding: 0;position: absolute;width: 1px;}#sk-container-id-2 div.sk-estimator {font-family: monospace;background-color: #f0f8ff;border: 1px dotted black;border-radius: 0.25em;box-sizing: border-box;margin-bottom: 0.5em;}#sk-container-id-2 div.sk-estimator:hover {background-color: #d4ebff;}#sk-container-id-2 div.sk-parallel-item::after {content: \"\";width: 100%;border-bottom: 1px solid gray;flex-grow: 1;}#sk-container-id-2 div.sk-label:hover label.sk-toggleable__label {background-color: #d4ebff;}#sk-container-id-2 div.sk-serial::before {content: \"\";position: absolute;border-left: 1px solid gray;box-sizing: border-box;top: 0;bottom: 0;left: 50%;z-index: 0;}#sk-container-id-2 div.sk-serial {display: flex;flex-direction: column;align-items: center;background-color: white;padding-right: 0.2em;padding-left: 0.2em;position: relative;}#sk-container-id-2 div.sk-item {position: relative;z-index: 1;}#sk-container-id-2 div.sk-parallel {display: flex;align-items: stretch;justify-content: center;background-color: white;position: relative;}#sk-container-id-2 div.sk-item::before, #sk-container-id-2 div.sk-parallel-item::before {content: \"\";position: absolute;border-left: 1px solid gray;box-sizing: border-box;top: 0;bottom: 0;left: 50%;z-index: -1;}#sk-container-id-2 div.sk-parallel-item {display: flex;flex-direction: column;z-index: 1;position: relative;background-color: white;}#sk-container-id-2 div.sk-parallel-item:first-child::after {align-self: flex-end;width: 50%;}#sk-container-id-2 div.sk-parallel-item:last-child::after {align-self: flex-start;width: 50%;}#sk-container-id-2 div.sk-parallel-item:only-child::after {width: 0;}#sk-container-id-2 div.sk-dashed-wrapped {border: 1px dashed gray;margin: 0 0.4em 0.5em 0.4em;box-sizing: border-box;padding-bottom: 0.4em;background-color: white;}#sk-container-id-2 div.sk-label label {font-family: monospace;font-weight: bold;display: inline-block;line-height: 1.2em;}#sk-container-id-2 div.sk-label-container {text-align: center;}#sk-container-id-2 div.sk-container {/* jupyter's `normalize.less` sets `[hidden] { display: none; }` but bootstrap.min.css set `[hidden] { display: none !important; }` so we also need the `!important` here to be able to override the default hidden behavior on the sphinx rendered scikit-learn.org. See: https://github.com/scikit-learn/scikit-learn/issues/21755 */display: inline-block !important;position: relative;}#sk-container-id-2 div.sk-text-repr-fallback {display: none;}</style><div id=\"sk-container-id-2\" class=\"sk-top-container\"><div class=\"sk-text-repr-fallback\"><pre>LinearRegression()</pre><b>In a Jupyter environment, please rerun this cell to show the HTML representation or trust the notebook. <br />On GitHub, the HTML representation is unable to render, please try loading this page with nbviewer.org.</b></div><div class=\"sk-container\" hidden><div class=\"sk-item\"><div class=\"sk-estimator sk-toggleable\"><input class=\"sk-toggleable__control sk-hidden--visually\" id=\"sk-estimator-id-2\" type=\"checkbox\" checked><label for=\"sk-estimator-id-2\" class=\"sk-toggleable__label sk-toggleable__label-arrow\">LinearRegression</label><div class=\"sk-toggleable__content\"><pre>LinearRegression()</pre></div></div></div></div></div>"
      ],
      "text/plain": [
       "LinearRegression()"
      ]
     },
     "execution_count": 47,
     "metadata": {},
     "output_type": "execute_result"
    }
   ],
   "source": [
    "lr=LinearRegression()\n",
    "lr.fit(X_train,y_train)"
   ]
  },
  {
   "cell_type": "code",
   "execution_count": 53,
   "id": "58a5555f-764b-47b3-b778-854c3a98db6c",
   "metadata": {},
   "outputs": [
    {
     "data": {
      "text/plain": [
       "array([-6.86771668e+00, -2.44904787e+00,  2.43467568e-01,  6.65898423e+00,\n",
       "        3.62734027e+00,  1.59639247e+01,  6.30058887e+00,  1.43924644e+01,\n",
       "        8.34356351e+00,  2.40453880e+01,  3.25274814e+01,  5.61305871e+01,\n",
       "        8.60210438e+13,  8.60210438e+13,  8.60210438e+13,  8.60210438e+13,\n",
       "        6.70861602e+14,  1.01001626e+15, -3.50508018e+13,  5.99825936e+14,\n",
       "       -1.59015723e+14,  6.16927490e+14,  6.44507162e+14,  6.68774304e+14,\n",
       "        6.18102333e+14,  6.26404871e+14,  3.39988894e+14,  2.59856308e+14,\n",
       "       -4.00763463e+14,  3.81432911e+14,  3.42272495e+14,  5.08020392e+14,\n",
       "       -1.29372720e+14,  2.20056334e+15,  4.48536393e+14,  7.33244664e+13,\n",
       "       -8.62550970e+14, -1.65197361e+13,  1.75710223e+15,  4.48444696e+14,\n",
       "        6.86852793e+13,  3.66238344e+14,  3.86001325e+14,  3.66238344e+14,\n",
       "        8.01841353e+14,  8.82421015e+14, -9.12355051e+13,  5.41088347e+14,\n",
       "        6.30604644e+14,  2.59856308e+14,  3.45877352e+14,  7.04585956e+14,\n",
       "       -8.60210438e+13,  8.30253819e+12,  1.98111332e+14,  9.19391315e+13,\n",
       "        2.60166527e+14,  1.74145483e+14,  2.44971960e+14,  1.48895584e+15,\n",
       "        2.60166527e+14,  1.74145483e+14, -7.81810853e+13, -1.64202129e+14,\n",
       "        2.80527519e+14, -1.13069736e+15, -1.21671840e+15,  2.37524616e+01,\n",
       "        5.53080404e+14,  2.86415977e+14,  2.00394933e+14,  7.55777590e+14,\n",
       "       -4.19977353e+12,  1.02716833e+15, -3.83611393e+14,  5.75434629e+14,\n",
       "        6.61455673e+14, -4.23694331e+13, -4.23694331e+13, -1.28390477e+14,\n",
       "        4.71698548e+14, -2.56016144e+14, -3.42037188e+14, -1.30477775e+14,\n",
       "        6.42924607e+14,  1.77868478e+14,  7.85420593e+14,  2.65789349e+13,\n",
       "       -1.81022907e+13, -1.81022907e+13, -1.04123335e+14, -1.81022907e+13,\n",
       "        1.18384479e+14,  1.18384479e+14,  3.23634355e+13, -4.44567308e+13,\n",
       "        8.53165238e+13, -1.57415847e+15, -1.66017951e+15,  7.17640376e+14,\n",
       "        2.80527519e+14,  6.26404871e+14, -1.75436482e+14, -2.56016144e+14,\n",
       "        9.47738050e+12,  2.40403546e+14,  2.60166527e+14,  1.74145483e+14,\n",
       "        5.40383827e+14,  1.84967497e+00, -8.23603707e+00, -4.65937914e+00,\n",
       "        3.22437804e+01, -1.70429546e+00, -2.89062059e+01, -1.11082876e+01,\n",
       "       -2.46288719e+00, -1.46415039e+00,  1.72879239e+01,  1.32518637e+01,\n",
       "        1.54018273e+01,  2.08464900e+00,  8.59911383e+00,  1.58226394e+01,\n",
       "        3.74748631e+01, -2.40007567e+01,  1.89399429e+01,  5.51924467e+00,\n",
       "        3.93253127e+00,  1.15488856e+01, -8.79226319e+00,  9.52250612e+00,\n",
       "        2.20818283e+01,  1.70351761e+01,  1.58207860e+01,  9.77462697e+00,\n",
       "        1.76485511e+01,  5.88505677e-02,  2.18606328e+01,  2.40040957e+01,\n",
       "       -2.45276511e+00,  1.11931382e+00,  3.34261049e+00,  7.55658841e+00,\n",
       "        3.28082489e+01,  4.91251129e+00, -1.04921954e+01,  1.28716118e+00,\n",
       "       -3.06210930e+01,  3.01579626e+00, -5.44574557e+00, -1.34995223e+01,\n",
       "       -6.37341152e+01,  6.87720726e-01, -1.48879331e+01, -1.00015641e+01,\n",
       "       -1.55227204e+01, -1.04784528e+01, -1.83523963e+01, -9.41378562e+00,\n",
       "       -1.52195142e+02, -1.34231571e+01, -1.98522738e+01, -4.62537223e+01,\n",
       "       -3.55476718e+00, -1.22254543e+01])"
      ]
     },
     "execution_count": 53,
     "metadata": {},
     "output_type": "execute_result"
    }
   ],
   "source": [
    "m = lr.coef_\n",
    "m"
   ]
  },
  {
   "cell_type": "code",
   "execution_count": 54,
   "id": "8d358eb5-d030-44e9-afd8-dd0de44b8b0d",
   "metadata": {},
   "outputs": [
    {
     "data": {
      "text/plain": [
       "-626404870822844.5"
      ]
     },
     "execution_count": 54,
     "metadata": {},
     "output_type": "execute_result"
    }
   ],
   "source": [
    "c = lr.intercept_\n",
    "c"
   ]
  },
  {
   "cell_type": "code",
   "execution_count": 55,
   "id": "2366c612-490c-454b-ad2c-c1cf59853670",
   "metadata": {},
   "outputs": [],
   "source": [
    "y_pred_train = lr.predict(X_train)"
   ]
  },
  {
   "cell_type": "code",
   "execution_count": 65,
   "id": "2ca71176-fcbe-4071-9d1d-d99f70048a36",
   "metadata": {},
   "outputs": [
    {
     "data": {
      "image/png": "[encoded data removed]",
      "text/plain": [
       "<Figure size 640x480 with 1 Axes>"
      ]
     },
     "metadata": {},
     "output_type": "display_data"
    },
    {
     "data": {
      "text/plain": [
       "\u001b[1;31mSignature:\u001b[0m\n",
       "\u001b[0mplt\u001b[0m\u001b[1;33m.\u001b[0m\u001b[0mscatter\u001b[0m\u001b[1;33m(\u001b[0m\u001b[1;33m\n",
       "\u001b[0m    \u001b[0mx\u001b[0m\u001b[1;33m:\u001b[0m \u001b[1;34m'float | ArrayLike'\u001b[0m\u001b[1;33m,\u001b[0m\u001b[1;33m\n",
       "\u001b[0m    \u001b[0my\u001b[0m\u001b[1;33m:\u001b[0m \u001b[1;34m'float | ArrayLike'\u001b[0m\u001b[1;33m,\u001b[0m\u001b[1;33m\n",
       "\u001b[0m    \u001b[0ms\u001b[0m\u001b[1;33m:\u001b[0m \u001b[1;34m'float | ArrayLike | None'\u001b[0m \u001b[1;33m=\u001b[0m \u001b[1;32mNone\u001b[0m\u001b[1;33m,\u001b[0m\u001b[1;33m\n",
       "\u001b[0m    \u001b[0mc\u001b[0m\u001b[1;33m:\u001b[0m \u001b[1;34m'Sequence[ColorType] | ColorType | None'\u001b[0m \u001b[1;33m=\u001b[0m \u001b[1;32mNone\u001b[0m\u001b[1;33m,\u001b[0m\u001b[1;33m\n",
       "\u001b[0m    \u001b[0mmarker\u001b[0m\u001b[1;33m:\u001b[0m \u001b[1;34m'MarkerType | None'\u001b[0m \u001b[1;33m=\u001b[0m \u001b[1;32mNone\u001b[0m\u001b[1;33m,\u001b[0m\u001b[1;33m\n",
       "\u001b[0m    \u001b[0mcmap\u001b[0m\u001b[1;33m:\u001b[0m \u001b[1;34m'str | Colormap | None'\u001b[0m \u001b[1;33m=\u001b[0m \u001b[1;32mNone\u001b[0m\u001b[1;33m,\u001b[0m\u001b[1;33m\n",
       "\u001b[0m    \u001b[0mnorm\u001b[0m\u001b[1;33m:\u001b[0m \u001b[1;34m'str | Normalize | None'\u001b[0m \u001b[1;33m=\u001b[0m \u001b[1;32mNone\u001b[0m\u001b[1;33m,\u001b[0m\u001b[1;33m\n",
       "\u001b[0m    \u001b[0mvmin\u001b[0m\u001b[1;33m:\u001b[0m \u001b[1;34m'float | None'\u001b[0m \u001b[1;33m=\u001b[0m \u001b[1;32mNone\u001b[0m\u001b[1;33m,\u001b[0m\u001b[1;33m\n",
       "\u001b[0m    \u001b[0mvmax\u001b[0m\u001b[1;33m:\u001b[0m \u001b[1;34m'float | None'\u001b[0m \u001b[1;33m=\u001b[0m \u001b[1;32mNone\u001b[0m\u001b[1;33m,\u001b[0m\u001b[1;33m\n",
       "\u001b[0m    \u001b[0malpha\u001b[0m\u001b[1;33m:\u001b[0m \u001b[1;34m'float | None'\u001b[0m \u001b[1;33m=\u001b[0m \u001b[1;32mNone\u001b[0m\u001b[1;33m,\u001b[0m\u001b[1;33m\n",
       "\u001b[0m    \u001b[0mlinewidths\u001b[0m\u001b[1;33m:\u001b[0m \u001b[1;34m'float | Sequence[float] | None'\u001b[0m \u001b[1;33m=\u001b[0m \u001b[1;32mNone\u001b[0m\u001b[1;33m,\u001b[0m\u001b[1;33m\n",
       "\u001b[0m    \u001b[1;33m*\u001b[0m\u001b[1;33m,\u001b[0m\u001b[1;33m\n",
       "\u001b[0m    \u001b[0medgecolors\u001b[0m\u001b[1;33m:\u001b[0m \u001b[1;34m\"Literal['face', 'none'] | ColorType | Sequence[ColorType] | None\"\u001b[0m \u001b[1;33m=\u001b[0m \u001b[1;32mNone\u001b[0m\u001b[1;33m,\u001b[0m\u001b[1;33m\n",
       "\u001b[0m    \u001b[0mplotnonfinite\u001b[0m\u001b[1;33m:\u001b[0m \u001b[1;34m'bool'\u001b[0m \u001b[1;33m=\u001b[0m \u001b[1;32mFalse\u001b[0m\u001b[1;33m,\u001b[0m\u001b[1;33m\n",
       "\u001b[0m    \u001b[0mdata\u001b[0m\u001b[1;33m=\u001b[0m\u001b[1;32mNone\u001b[0m\u001b[1;33m,\u001b[0m\u001b[1;33m\n",
       "\u001b[0m    \u001b[1;33m**\u001b[0m\u001b[0mkwargs\u001b[0m\u001b[1;33m,\u001b[0m\u001b[1;33m\n",
       "\u001b[0m\u001b[1;33m)\u001b[0m \u001b[1;33m->\u001b[0m \u001b[1;34m'PathCollection'\u001b[0m\u001b[1;33m\u001b[0m\u001b[1;33m\u001b[0m\u001b[0m\n",
       "\u001b[1;31mDocstring:\u001b[0m\n",
       "A scatter plot of *y* vs. *x* with varying marker size and/or color.\n",
       "\n",
       "Parameters\n",
       "----------\n",
       "x, y : float or array-like, shape (n, )\n",
       "    The data positions.\n",
       "\n",
       "s : float or array-like, shape (n, ), optional\n",
       "    The marker size in points**2 (typographic points are 1/72 in.).\n",
       "    Default is ``rcParams['lines.markersize'] ** 2``.\n",
       "\n",
       "    The linewidth and edgecolor can visually interact with the marker\n",
       "    size, and can lead to artifacts if the marker size is smaller than\n",
       "    the linewidth.\n",
       "\n",
       "    If the linewidth is greater than 0 and the edgecolor is anything\n",
       "    but *'none'*, then the effective size of the marker will be\n",
       "    increased by half the linewidth because the stroke will be centered\n",
       "    on the edge of the shape.\n",
       "\n",
       "    To eliminate the marker edge either set *linewidth=0* or\n",
       "    *edgecolor='none'*.\n",
       "\n",
       "c : array-like or list of colors or color, optional\n",
       "    The marker colors. Possible values:\n",
       "\n",
       "    - A scalar or sequence of n numbers to be mapped to colors using\n",
       "      *cmap* and *norm*.\n",
       "    - A 2D array in which the rows are RGB or RGBA.\n",
       "    - A sequence of colors of length n.\n",
       "    - A single color format string.\n",
       "\n",
       "    Note that *c* should not be a single numeric RGB or RGBA sequence\n",
       "    because that is indistinguishable from an array of values to be\n",
       "    colormapped. If you want to specify the same RGB or RGBA value for\n",
       "    all points, use a 2D array with a single row.  Otherwise,\n",
       "    value-matching will have precedence in case of a size matching with\n",
       "    *x* and *y*.\n",
       "\n",
       "    If you wish to specify a single color for all points\n",
       "    prefer the *color* keyword argument.\n",
       "\n",
       "    Defaults to `None`. In that case the marker color is determined\n",
       "    by the value of *color*, *facecolor* or *facecolors*. In case\n",
       "    those are not specified or `None`, the marker color is determined\n",
       "    by the next color of the ``Axes``' current \"shape and fill\" color\n",
       "    cycle. This cycle defaults to :rc:`axes.prop_cycle`.\n",
       "\n",
       "marker : `~.markers.MarkerStyle`, default: :rc:`scatter.marker`\n",
       "    The marker style. *marker* can be either an instance of the class\n",
       "    or the text shorthand for a particular marker.\n",
       "    See :mod:`matplotlib.markers` for more information about marker\n",
       "    styles.\n",
       "\n",
       "cmap : str or `~matplotlib.colors.Colormap`, default: :rc:`image.cmap`\n",
       "    The Colormap instance or registered colormap name used to map scalar data\n",
       "    to colors.\n",
       "\n",
       "    This parameter is ignored if *c* is RGB(A).\n",
       "\n",
       "norm : str or `~matplotlib.colors.Normalize`, optional\n",
       "    The normalization method used to scale scalar data to the [0, 1] range\n",
       "    before mapping to colors using *cmap*. By default, a linear scaling is\n",
       "    used, mapping the lowest value to 0 and the highest to 1.\n",
       "\n",
       "    If given, this can be one of the following:\n",
       "\n",
       "    - An instance of `.Normalize` or one of its subclasses\n",
       "      (see :ref:`colormapnorms`).\n",
       "    - A scale name, i.e. one of \"linear\", \"log\", \"symlog\", \"logit\", etc.  For a\n",
       "      list of available scales, call `matplotlib.scale.get_scale_names()`.\n",
       "      In that case, a suitable `.Normalize` subclass is dynamically generated\n",
       "      and instantiated.\n",
       "\n",
       "    This parameter is ignored if *c* is RGB(A).\n",
       "\n",
       "vmin, vmax : float, optional\n",
       "    When using scalar data and no explicit *norm*, *vmin* and *vmax* define\n",
       "    the data range that the colormap covers. By default, the colormap covers\n",
       "    the complete value range of the supplied data. It is an error to use\n",
       "    *vmin*/*vmax* when a *norm* instance is given (but using a `str` *norm*\n",
       "    name together with *vmin*/*vmax* is acceptable).\n",
       "\n",
       "    This parameter is ignored if *c* is RGB(A).\n",
       "\n",
       "alpha : float, default: None\n",
       "    The alpha blending value, between 0 (transparent) and 1 (opaque).\n",
       "\n",
       "linewidths : float or array-like, default: :rc:`lines.linewidth`\n",
       "    The linewidth of the marker edges. Note: The default *edgecolors*\n",
       "    is 'face'. You may want to change this as well.\n",
       "\n",
       "edgecolors : {'face', 'none', *None*} or color or sequence of color, default: :rc:`scatter.edgecolors`\n",
       "    The edge color of the marker. Possible values:\n",
       "\n",
       "    - 'face': The edge color will always be the same as the face color.\n",
       "    - 'none': No patch boundary will be drawn.\n",
       "    - A color or sequence of colors.\n",
       "\n",
       "    For non-filled markers, *edgecolors* is ignored. Instead, the color\n",
       "    is determined like with 'face', i.e. from *c*, *colors*, or\n",
       "    *facecolors*.\n",
       "\n",
       "plotnonfinite : bool, default: False\n",
       "    Whether to plot points with nonfinite *c* (i.e. ``inf``, ``-inf``\n",
       "    or ``nan``). If ``True`` the points are drawn with the *bad*\n",
       "    colormap color (see `.Colormap.set_bad`).\n",
       "\n",
       "Returns\n",
       "-------\n",
       "`~matplotlib.collections.PathCollection`\n",
       "\n",
       "Other Parameters\n",
       "----------------\n",
       "data : indexable object, optional\n",
       "    If given, the following parameters also accept a string ``s``, which is\n",
       "    interpreted as ``data[s]`` (unless this raises an exception):\n",
       "\n",
       "    *x*, *y*, *s*, *linewidths*, *edgecolors*, *c*, *facecolor*, *facecolors*, *color*\n",
       "**kwargs : `~matplotlib.collections.Collection` properties\n",
       "\n",
       "See Also\n",
       "--------\n",
       "plot : To plot scatter plots when markers are identical in size and\n",
       "    color.\n",
       "\n",
       "Notes\n",
       "-----\n",
       "* The `.plot` function will be faster for scatterplots where markers\n",
       "  don't vary in size or color.\n",
       "\n",
       "* Any or all of *x*, *y*, *s*, and *c* may be masked arrays, in which\n",
       "  case all masks will be combined and only unmasked points will be\n",
       "  plotted.\n",
       "\n",
       "* Fundamentally, scatter works with 1D arrays; *x*, *y*, *s*, and *c*\n",
       "  may be input as N-D arrays, but within scatter they will be\n",
       "  flattened. The exception is *c*, which will be flattened only if its\n",
       "  size matches the size of *x* and *y*.\n",
       "\u001b[1;31mFile:\u001b[0m      c:\\users\\athar\\anaconda3\\lib\\site-packages\\matplotlib\\pyplot.py\n",
       "\u001b[1;31mType:\u001b[0m      function"
      ]
     },
     "metadata": {},
     "output_type": "display_data"
    }
   ],
   "source": [
    "import matplotlib.pyplot as plt\n",
    "plt.scatter?\n",
    "plt.scatter(y_train,y_pred_train)\n",
    "plt.show()"
   ]
  },
  {
   "cell_type": "code",
   "execution_count": 57,
   "id": "eea5b0e4-32c2-4585-87eb-8385d5b71f7e",
   "metadata": {},
   "outputs": [
    {
     "data": {
      "text/plain": [
       "0.3115781699307232"
      ]
     },
     "execution_count": 57,
     "metadata": {},
     "output_type": "execute_result"
    }
   ],
   "source": [
    "r2_score(y_train,y_pred_train)"
   ]
  },
  {
   "cell_type": "code",
   "execution_count": 58,
   "id": "e237c382-9e78-4d68-9271-d7e47c5861b7",
   "metadata": {},
   "outputs": [
    {
     "data": {
      "text/plain": [
       "array([167.5  , 198.75 , 146.   , 178.75 , 168.75 , 211.25 , 157.25 ,\n",
       "       151.375, 166.375, 152.5  , 154.625, 166.5  , 180.   , 135.   ,\n",
       "       168.875, 148.375, 139.625, 161.5  , 163.   , 135.   , 143.125,\n",
       "       177.5  , 209.875, 147.375, 145.   , 155.875, 157.5  , 156.25 ,\n",
       "       164.25 , 163.5  , 138.875, 144.375, 172.25 , 162.625, 203.625,\n",
       "       153.   , 166.5  , 153.25 , 159.375, 145.125, 129.625, 172.875,\n",
       "       169.75 , 194.25 , 161.125, 170.625, 151.   , 179.25 , 155.   ,\n",
       "       187.75 , 165.875, 170.5  , 184.75 , 154.5  , 177.125, 137.25 ,\n",
       "       163.75 , 156.5  , 168.25 , 168.25 , 172.   , 210.75 , 168.   ,\n",
       "       154.   , 107.375, 201.5  , 167.   , 124.375, 177.5  , 171.5  ,\n",
       "       196.75 , 168.125, 157.125, 195.75 , 178.5  , 149.75 , 135.   ,\n",
       "       144.75 , 184.25 , 157.75 , 179.5  , 159.25 , 173.75 , 165.375,\n",
       "       184.875, 146.875, 153.25 , 182.875, 175.625, 177.875, 165.25 ,\n",
       "       171.5  , 165.375, 167.625, 205.75 , 185.375, 193.25 , 184.25 ,\n",
       "       132.   , 154.375, 143.75 , 203.   , 170.5  , 145.375, 201.   ,\n",
       "       190.375, 150.625, 163.125, 126.   , 164.375, 168.   , 155.625,\n",
       "       196.   , 187.375, 171.875, 212.625, 143.125, 158.125, 160.375,\n",
       "       190.   , 169.75 , 165.375, 148.25 , 155.25 , 188.25 , 197.   ,\n",
       "       160.25 , 190.375, 168.   , 139.25 , 171.5  , 181.   , 142.   ,\n",
       "       176.5  , 179.5  , 167.125, 151.375, 194.5  , 143.875, 125.75 ,\n",
       "       160.875,  94.25 , 152.625, 168.375, 180.625, 140.5  , 226.125,\n",
       "       133.625, 177.25 , 187.   , 157.625, 159.125, 162.75 , 169.875,\n",
       "       163.25 , 200.25 , 164.5  , 186.375, 183.25 , 180.125, 186.75 ,\n",
       "       168.5  , 168.   , 148.   , 167.25 , 223.5  , 149.625, 155.875,\n",
       "       182.125, 164.5  , 176.625, 162.5  , 147.25 , 168.5  , 181.25 ,\n",
       "       168.375, 167.5  , 156.125, 174.5  , 143.375, 181.75 , 180.5  ,\n",
       "       172.375, 186.375, 157.25 , 168.5  , 165.5  , 145.875, 149.625,\n",
       "       156.25 , 153.75 , 174.25 , 157.625, 160.   , 172.5  , 134.75 ,\n",
       "       160.25 , 145.25 , 133.   , 130.625, 145.   , 190.25 , 156.25 ,\n",
       "       185.375, 146.   , 196.   , 173.125, 162.   , 152.25 , 161.625,\n",
       "       171.25 , 163.   , 155.5  , 158.125, 161.125, 150.375, 155.5  ,\n",
       "       188.25 , 144.625, 172.125, 169.25 , 173.   , 161.5  , 194.375,\n",
       "       144.25 , 152.   , 149.75 , 200.   , 184.75 , 196.25 , 154.125,\n",
       "       190.75 , 140.5  , 176.125, 136.5  , 189.625, 200.5  , 149.   ,\n",
       "       180.25 , 142.375, 170.75 , 141.25 , 184.875, 184.   , 171.   ,\n",
       "       173.5  , 160.   , 191.875, 162.   , 176.   , 161.5  , 188.625,\n",
       "       160.   , 177.625, 156.125, 172.75 , 169.75 , 164.125, 146.625,\n",
       "       172.875, 151.875, 168.625, 169.625,  90.5  , 158.625, 171.   ,\n",
       "       177.375, 164.25 , 163.   , 157.5  , 189.   , 150.875, 155.75 ,\n",
       "       168.375, 152.875, 154.125, 189.625, 177.375, 175.   , 199.5  ,\n",
       "       181.625, 163.375, 165.25 , 172.5  , 161.875, 150.625, 176.25 ,\n",
       "       199.75 , 158.375, 166.125, 163.   , 171.375, 141.75 , 186.875,\n",
       "       139.875, 175.   , 176.25 , 141.125, 145.375, 173.5  , 147.5  ,\n",
       "       161.5  , 144.25 , 162.75 , 183.875, 166.75 , 189.875, 182.125,\n",
       "       165.625, 178.5  , 184.25 , 151.   , 158.625, 164.375, 205.   ,\n",
       "       164.   , 138.75 , 169.   , 167.25 , 165.625, 186.625, 153.75 ,\n",
       "       139.   , 193.25 , 155.5  , 138.875, 154.   ,  62.5  , 145.75 ,\n",
       "       148.25 , 180.375, 179.   , 156.   , 162.625, 143.875, 159.   ,\n",
       "       157.75 , 155.75 , 180.75 , 192.625, 198.625, 150.   , 139.   ,\n",
       "       173.   , 176.75 , 169.125, 176.625, 168.   , 164.5  , 171.5  ,\n",
       "       151.875, 167.125, 172.75 , 177.875, 158.375, 149.75 , 185.   ,\n",
       "       190.5  , 155.125, 164.875, 167.625, 167.375, 173.625, 151.5  ,\n",
       "       184.125, 188.5  , 147.25 , 188.125, 162.125, 161.25 , 172.25 ,\n",
       "       139.125, 168.25 , 178.   , 161.   , 194.5  , 161.75 , 187.125,\n",
       "       147.875, 197.625, 133.375, 166.75 , 174.125, 162.125, 163.625,\n",
       "       174.375, 156.625, 153.   , 157.875, 152.25 , 134.25 , 177.125,\n",
       "       164.25 , 122.25 , 176.   , 154.125, 159.625, 175.625, 150.   ,\n",
       "       157.75 , 169.125, 185.625, 201.875, 165.875, 162.75 , 146.75 ,\n",
       "       153.875, 174.75 , 181.   , 198.625, 140.5  , 199.5  , 136.5  ,\n",
       "       177.25 , 182.625, 167.875, 159.875, 173.75 , 155.625, 175.5  ,\n",
       "       153.75 , 156.375, 195.625, 190.375, 172.75 , 143.   , 144.875,\n",
       "       151.5  , 152.   , 143.5  , 140.375, 177.125, 152.875, 153.625,\n",
       "       149.375, 177.375, 165.125, 142.   , 146.5  , 169.75 , 166.625,\n",
       "       180.75 , 157.875, 197.125, 205.125, 137.125, 167.   , 190.125,\n",
       "       113.375, 154.125, 165.   , 151.375, 172.25 , 199.375, 194.5  ,\n",
       "       130.5  , 184.75 , 182.125, 162.75 , 178.5  , 156.375, 162.5  ,\n",
       "       181.625, 182.25 , 151.25 , 148.5  , 166.125, 161.375, 142.5  ,\n",
       "       225.   , 151.25 , 155.5  , 190.75 , 199.875, 150.5  , 140.375,\n",
       "       183.   , 154.375, 152.5  , 185.5  , 188.5  , 170.125, 209.   ,\n",
       "       185.75 , 183.   , 158.25 , 186.125, 187.75 , 146.75 , 164.   ,\n",
       "       168.75 , 174.75 , 162.625, 146.75 , 155.375, 158.25 , 152.75 ,\n",
       "       179.75 , 146.25 , 189.75 , 186.875, 243.   , 163.5  , 149.75 ,\n",
       "       159.75 , 189.5  , 157.625, 165.625, 177.   , 155.375, 176.5  ,\n",
       "       148.375, 163.75 , 216.5  , 155.25 , 195.25 , 182.125, 177.   ,\n",
       "       165.75 , 144.875, 178.375, 145.25 , 163.25 , 164.125, 156.5  ,\n",
       "       180.125, 191.75 , 138.125, 154.625, 171.125, 151.375, 184.   ,\n",
       "       199.125, 176.375, 157.125, 193.   , 163.75 , 197.25 , 165.5  ,\n",
       "       157.5  , 204.25 , 141.625, 186.25 , 161.625, 163.125, 165.5  ,\n",
       "       147.   , 168.125, 155.   , 139.   , 194.   , 153.25 , 211.375,\n",
       "       150.625, 182.75 , 133.75 , 151.5  , 180.375, 164.375, 168.5  ,\n",
       "       144.   , 190.125, 159.5  , 163.   , 173.25 , 162.375, 201.125,\n",
       "       157.25 , 150.5  , 178.   , 192.375, 203.625, 164.375, 172.25 ,\n",
       "       159.75 , 152.25 , 159.375, 135.25 , 165.25 , 160.75 , 149.5  ,\n",
       "       175.75 , 184.75 , 167.   , 150.75 , 167.125, 146.75 , 185.75 ,\n",
       "       181.25 , 158.75 , 178.   , 164.5  , 115.125, 161.125, 154.75 ,\n",
       "       173.125, 142.   , 133.   , 163.   , 193.625, 134.25 , 184.625,\n",
       "       167.5  , 161.125, 160.125, 186.25 , 162.125, 169.   , 142.5  ,\n",
       "       172.75 , 118.375, 199.875, 189.875, 155.   , 170.   , 156.   ,\n",
       "       148.75 , 175.25 , 144.25 , 182.25 , 160.875, 155.875, 188.75 ,\n",
       "       154.25 , 155.   , 169.625, 164.5  , 170.75 , 180.625, 168.5  ,\n",
       "       174.875, 150.625, 180.875, 174.75 , 158.   , 157.   , 143.625,\n",
       "       162.125, 182.   , 208.75 , 180.   , 147.25 , 153.875, 171.375,\n",
       "       194.   , 174.5  , 145.875, 173.125, 160.875, 154.875, 191.25 ,\n",
       "       149.5  , 181.25 , 161.625, 134.875, 148.375, 146.875])"
      ]
     },
     "execution_count": 58,
     "metadata": {},
     "output_type": "execute_result"
    }
   ],
   "source": [
    "y_pred_train"
   ]
  },
  {
   "cell_type": "code",
   "execution_count": null,
   "id": "745279ab-ba0a-49cf-8aa7-9659fe0b3c28",
   "metadata": {},
   "outputs": [],
   "source": []
  },
  {
   "cell_type": "code",
   "execution_count": null,
   "id": "94a0b63c-320e-4720-b441-a6d217d2b324",
   "metadata": {},
   "outputs": [],
   "source": []
  },
  {
   "cell_type": "code",
   "execution_count": null,
   "id": "ba0d33b5-fb26-421d-b2e4-5fbd47d150e6",
   "metadata": {},
   "outputs": [],
   "source": []
  },
  {
   "cell_type": "code",
   "execution_count": null,
   "id": "a28a25c1-13f2-45b1-80ae-af3231bf8e17",
   "metadata": {},
   "outputs": [],
   "source": []
  }
 ],
 "metadata": {
  "kernelspec": {
   "display_name": "Python 3 (ipykernel)",
   "language": "python",
   "name": "python3"
  },
  "language_info": {
   "codemirror_mode": {
    "name": "ipython",
    "version": 3
   },
   "file_extension": ".py",
   "mimetype": "text/x-python",
   "name": "python",
   "nbconvert_exporter": "python",
   "pygments_lexer": "ipython3",
   "version": "3.11.7"
  }
 },
 "nbformat": 4,
 "nbformat_minor": 5
}
