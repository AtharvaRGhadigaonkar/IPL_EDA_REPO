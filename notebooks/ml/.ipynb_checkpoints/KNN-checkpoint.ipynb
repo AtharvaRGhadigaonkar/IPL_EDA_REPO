{
 "cells": [
  {
   "cell_type": "markdown",
   "id": "a136d077-858f-4dab-a189-3ac7b0e9ff9f",
   "metadata": {},
   "source": [
    "### IMPORTS"
   ]
  },
  {
   "cell_type": "code",
   "execution_count": 1,
   "id": "30f244a7-255b-4279-b0ef-ff56ea181158",
   "metadata": {},
   "outputs": [],
   "source": [
    "import numpy as np\n",
    "import pandas as pd\n",
    "from sklearn.neighbors import NearestNeighbors"
   ]
  },
  {
   "cell_type": "code",
   "execution_count": 2,
   "id": "0516ddd2-55e5-4011-b564-cf78f0e71e94",
   "metadata": {},
   "outputs": [],
   "source": [
    "df = pd.read_csv(\"players_stats.csv\")\n",
    "df.fillna(0,inplace=True)"
   ]
  },
  {
   "cell_type": "code",
   "execution_count": null,
   "id": "0746a0c8-2830-415c-8577-899f84016805",
   "metadata": {},
   "outputs": [],
   "source": []
  },
  {
   "cell_type": "code",
   "execution_count": null,
   "id": "1adc11ea-ca48-4d0b-a026-1ef135da7d5a",
   "metadata": {},
   "outputs": [],
   "source": []
  },
  {
   "cell_type": "code",
   "execution_count": 3,
   "id": "466b2de3-6819-4801-be3a-3292de02d195",
   "metadata": {},
   "outputs": [],
   "source": [
    "nbrs = NearestNeighbors(n_neighbors=6).fit(df[['Batting_avg', 'Batting_strikerate',\n",
    "       'Batting_total_runs', 'Batting_boundary', 'Batting_dot',\n",
    "       'Bowling_balls', 'Bowling_over', 'Bowling_runs', 'Bowling_economy',\n",
    "       'Bowling_wickets', 'Bowling_total_runs', 'Bowling_avg',\n",
    "       'Bowling_strikerate']])"
   ]
  },
  {
   "cell_type": "code",
   "execution_count": 4,
   "id": "cbc19554-458b-433a-9df5-5e5ade36849e",
   "metadata": {},
   "outputs": [
    {
     "data": {
      "text/plain": [
       "Index(['Player_name', 'Batting_avg', 'Batting_strikerate',\n",
       "       'Batting_total_runs', 'Batting_boundary', 'Batting_dot',\n",
       "       'Bowling_balls', 'Bowling_over', 'Bowling_runs', 'Bowling_economy',\n",
       "       'Bowling_wickets', 'Bowling_total_runs', 'Bowling_avg',\n",
       "       'Bowling_strikerate'],\n",
       "      dtype='object')"
      ]
     },
     "execution_count": 4,
     "metadata": {},
     "output_type": "execute_result"
    }
   ],
   "source": [
    "df.columns"
   ]
  },
  {
   "cell_type": "code",
   "execution_count": 5,
   "id": "dd113a6e-825a-4320-83f3-1872eade4652",
   "metadata": {},
   "outputs": [],
   "source": [
    "query_player = df[df['Player_name'] == 'V Kohli'][['Batting_avg', 'Batting_strikerate',\n",
    "       'Batting_total_runs', 'Batting_boundary', 'Batting_dot',\n",
    "       'Bowling_balls', 'Bowling_over', 'Bowling_runs', 'Bowling_economy',\n",
    "       'Bowling_wickets', 'Bowling_total_runs', 'Bowling_avg',\n",
    "       'Bowling_strikerate']]"
   ]
  },
  {
   "cell_type": "code",
   "execution_count": 6,
   "id": "902f1856-63dc-4f6f-9128-cc90bdee961b",
   "metadata": {},
   "outputs": [],
   "source": [
    "distances, indices = nbrs.kneighbors(query_player)"
   ]
  },
  {
   "cell_type": "code",
   "execution_count": 7,
   "id": "f116a5f3-043f-4520-9357-054cdbf9b55f",
   "metadata": {},
   "outputs": [
    {
     "name": "stdout",
     "output_type": "stream",
     "text": [
      "5 most similar players: ['S Dhawan', 'RG Sharma', 'DA Warner', 'SK Raina', 'MS Dhoni']\n"
     ]
    }
   ],
   "source": [
    "similar_players_indices = indices[0][1:]  # Exclude the first one (itself)\n",
    "\n",
    "# Get the names of the similar players\n",
    "most_similar_players = df.iloc[similar_players_indices]['Player_name'].tolist()\n",
    "1\n",
    "print(\"5 most similar players:\", most_similar_players)"
   ]
  },
  {
   "cell_type": "code",
   "execution_count": null,
   "id": "629959b8-9e2a-439c-8e29-7ba8ac5a8548",
   "metadata": {},
   "outputs": [],
   "source": [
    "\n",
    "    "
   ]
  },
  {
   "cell_type": "markdown",
   "id": "07de33d3-e35f-4d93-8481-900d0d5e1a15",
   "metadata": {},
   "source": [
    "class PlayerSimilarity:\n",
    "    def __init__(self,df):\n",
    "        self.df = pd.DataFrame(df)\n",
    "        self.model = NearestNeighbors(n_neighbors=6)\n",
    "        \n",
    "    def Player_finder(self,Player_name):\n",
    "        self.all_features = ['Batting_avg', 'Batting_strikerate',\n",
    "       'Batting_total_runs', 'Batting_boundary', 'Batting_dot',\n",
    "       'Bowling_balls', 'Bowling_over', 'Bowling_runs', 'Bowling_economy',\n",
    "       'Bowling_wickets', 'Bowling_total_runs', 'Bowling_avg',\n",
    "       'Bowling_strikerate']\n",
    "        self.model.fit(self.df[self.all_features])\n",
    "        self.query_player = self.df[self.df['Player_name'] == Player_name][self.all_features]\n",
    "        self.distances, self.indices = self.model.kneighbors(self.query_player)\n",
    "        self.similar_players = self.df.iloc[self.indices[0]]['Player_name'].values\n",
    "        return self.similar_players[1:]\n",
    "        \n",
    "    def Bowler_finder(self,Player_name):\n",
    "        self.bowler_features = ['Bowling_balls', 'Bowling_over', 'Bowling_runs', 'Bowling_economy',\n",
    "       'Bowling_wickets', 'Bowling_total_runs', 'Bowling_avg','Bowling_strikerate']\n",
    "        self.model.fit(self.df[self.bowler_features])\n",
    "        self.query_player = self.df[self.df['Player_name'] == Player_name][self.bowler_features]\n",
    "        self.distances, self.indices = self.model.kneighbors(self.query_player)\n",
    "        self.similar_players = self.df.iloc[self.indices[0]]['Player_name'].values\n",
    "        return self.similar_players[1:]\n",
    "        \n",
    "    def Batsmen_finder(self,Player_name):\n",
    "        self.batter_features = ['Batting_avg', 'Batting_strikerate',\n",
    "       'Batting_total_runs', 'Batting_boundary', 'Batting_dot']\n",
    "        self.model.fit(self.df[self.batter_features])\n",
    "        self.query_player = self.df[self.df['Player_name'] == Player_name][self.batter_features]\n",
    "        self.distances, self.indices = self.model.kneighbors(self.query_player)\n",
    "        self.similar_players = self.df.iloc[self.indices[0]]['Player_name'].values\n",
    "        return self.similar_players[1:]"
   ]
  },
  {
   "cell_type": "code",
   "execution_count": 8,
   "id": "95143801-5484-45a7-b03e-1e17f52d7ebd",
   "metadata": {},
   "outputs": [],
   "source": [
    "from sklearn.preprocessing import StandardScaler\n",
    "from sklearn.neighbors import NearestNeighbors\n",
    "\n",
    "class PlayerSimilarity:\n",
    "    def __init__(self, df):\n",
    "        self.df = pd.DataFrame(df)\n",
    "        self.scaler = StandardScaler()\n",
    "        self.model = NearestNeighbors(n_neighbors=6)\n",
    "        \n",
    "    def Player_finder(self, Player_name):\n",
    "        self.all_features = ['Batting_avg', 'Batting_strikerate',\n",
    "                             'Batting_total_runs', 'Batting_boundary', 'Batting_dot',\n",
    "                             'Bowling_balls', 'Bowling_over', 'Bowling_runs', 'Bowling_economy',\n",
    "                             'Bowling_wickets', 'Bowling_total_runs', 'Bowling_avg',\n",
    "                             'Bowling_strikerate']\n",
    "        \n",
    "        # Standardize all features\n",
    "        self.df[self.all_features] = self.scaler.fit_transform(self.df[self.all_features])\n",
    "        \n",
    "        # Fit and find similar players\n",
    "        self.model.fit(self.df[self.all_features])\n",
    "        self.query_player = self.df[self.df['Player_name'] == Player_name][self.all_features]\n",
    "        self.distances, self.indices = self.model.kneighbors(self.query_player)\n",
    "        self.similar_players = self.df.iloc[self.indices[0]]['Player_name'].values\n",
    "        return self.similar_players[1:]\n",
    "        \n",
    "    def Bowler_finder(self, Player_name):\n",
    "        self.bowler_features = ['Bowling_balls', 'Bowling_over', 'Bowling_runs', 'Bowling_economy',\n",
    "                                'Bowling_wickets', 'Bowling_total_runs', 'Bowling_avg', 'Bowling_strikerate']\n",
    "        \n",
    "        # Standardize bowler features\n",
    "        self.df[self.bowler_features] = self.scaler.fit_transform(self.df[self.bowler_features])\n",
    "        \n",
    "        # Fit and find similar bowlers\n",
    "        self.model.fit(self.df[self.bowler_features])\n",
    "        self.query_player = self.df[self.df['Player_name'] == Player_name][self.bowler_features]\n",
    "        self.distances, self.indices = self.model.kneighbors(self.query_player)\n",
    "        self.similar_players = self.df.iloc[self.indices[0]]['Player_name'].values\n",
    "        return self.similar_players[1:]\n",
    "        \n",
    "    def Batsmen_finder(self, Player_name):\n",
    "        self.batter_features = ['Batting_avg', 'Batting_strikerate',\n",
    "                                'Batting_total_runs', 'Batting_boundary', 'Batting_dot']\n",
    "        \n",
    "        # Standardize batter features\n",
    "        self.df[self.batter_features] = self.scaler.fit_transform(self.df[self.batter_features])\n",
    "        \n",
    "        # Fit and find similar batsmen\n",
    "        self.model.fit(self.df[self.batter_features])\n",
    "        self.query_player = self.df[self.df['Player_name'] == Player_name][self.batter_features]\n",
    "        self.distances, self.indices = self.model.kneighbors(self.query_player)\n",
    "        self.similar_players = self.df.iloc[self.indices[0]]['Player_name'].values\n",
    "        return self.similar_players[1:]\n"
   ]
  },
  {
   "cell_type": "code",
   "execution_count": 9,
   "id": "154b549a-660f-4b59-8099-6b9eb5eed7d8",
   "metadata": {},
   "outputs": [
    {
     "data": {
      "text/plain": [
       "array(['S Dhawan', 'DA Warner', 'RG Sharma', 'SK Raina', 'MS Dhoni'],\n",
       "      dtype=object)"
      ]
     },
     "execution_count": 9,
     "metadata": {},
     "output_type": "execute_result"
    }
   ],
   "source": [
    "a = PlayerSimilarity(df)\n",
    "a.Batsmen_finder(\"V Kohli\")"
   ]
  },
  {
   "cell_type": "code",
   "execution_count": 10,
   "id": "188acbcc-8622-4ee0-8f23-814dfadf9159",
   "metadata": {},
   "outputs": [
    {
     "data": {
      "text/plain": [
       "array(['RG Sharma', 'SK Raina', 'CH Gayle', 'S Dhawan', 'DA Warner'],\n",
       "      dtype=object)"
      ]
     },
     "execution_count": 10,
     "metadata": {},
     "output_type": "execute_result"
    }
   ],
   "source": [
    "a.Player_finder(\"V Kohli\")"
   ]
  },
  {
   "cell_type": "code",
   "execution_count": 11,
   "id": "fa8ebc00-aa06-4a13-ae94-1b91293a2b6f",
   "metadata": {},
   "outputs": [
    {
     "data": {
      "text/plain": [
       "array(['TM Dilshan', 'Parvez Rasool', 'AC Voges', 'M Siddharth',\n",
       "       'D Salunkhe'], dtype=object)"
      ]
     },
     "execution_count": 11,
     "metadata": {},
     "output_type": "execute_result"
    }
   ],
   "source": [
    "a.Bowler_finder(\"V Kohli\")"
   ]
  },
  {
   "cell_type": "code",
   "execution_count": 12,
   "id": "ec678f51-59ed-487f-a796-ea82f8905432",
   "metadata": {},
   "outputs": [
    {
     "data": {
      "text/html": [
       "<div>\n",
       "<style scoped>\n",
       "    .dataframe tbody tr th:only-of-type {\n",
       "        vertical-align: middle;\n",
       "    }\n",
       "\n",
       "    .dataframe tbody tr th {\n",
       "        vertical-align: top;\n",
       "    }\n",
       "\n",
       "    .dataframe thead th {\n",
       "        text-align: right;\n",
       "    }\n",
       "</style>\n",
       "<table border=\"1\" class=\"dataframe\">\n",
       "  <thead>\n",
       "    <tr style=\"text-align: right;\">\n",
       "      <th></th>\n",
       "      <th>Bowling_over</th>\n",
       "      <th>Bowling_runs</th>\n",
       "      <th>Bowling_economy</th>\n",
       "      <th>Bowling_wickets</th>\n",
       "      <th>Bowling_total_runs</th>\n",
       "      <th>Bowling_avg</th>\n",
       "      <th>Bowling_strikerate</th>\n",
       "    </tr>\n",
       "  </thead>\n",
       "  <tbody>\n",
       "    <tr>\n",
       "      <th>7</th>\n",
       "      <td>41.833333</td>\n",
       "      <td>367.0</td>\n",
       "      <td>8.772908</td>\n",
       "      <td>5.0</td>\n",
       "      <td>73.4</td>\n",
       "      <td>50.2</td>\n",
       "      <td>14.342629</td>\n",
       "    </tr>\n",
       "  </tbody>\n",
       "</table>\n",
       "</div>"
      ],
      "text/plain": [
       "   Bowling_over  Bowling_runs  Bowling_economy  Bowling_wickets  \\\n",
       "7     41.833333         367.0         8.772908              5.0   \n",
       "\n",
       "   Bowling_total_runs  Bowling_avg  Bowling_strikerate  \n",
       "7                73.4         50.2           14.342629  "
      ]
     },
     "execution_count": 12,
     "metadata": {},
     "output_type": "execute_result"
    }
   ],
   "source": [
    "df[df[\"Player_name\"]==\"V Kohli\"].iloc[:,7:]"
   ]
  },
  {
   "cell_type": "code",
   "execution_count": 13,
   "id": "b9941770-cbac-481e-906a-8a6396e54393",
   "metadata": {},
   "outputs": [
    {
     "data": {
      "text/html": [
       "<div>\n",
       "<style scoped>\n",
       "    .dataframe tbody tr th:only-of-type {\n",
       "        vertical-align: middle;\n",
       "    }\n",
       "\n",
       "    .dataframe tbody tr th {\n",
       "        vertical-align: top;\n",
       "    }\n",
       "\n",
       "    .dataframe thead th {\n",
       "        text-align: right;\n",
       "    }\n",
       "</style>\n",
       "<table border=\"1\" class=\"dataframe\">\n",
       "  <thead>\n",
       "    <tr style=\"text-align: right;\">\n",
       "      <th></th>\n",
       "      <th>Bowling_over</th>\n",
       "      <th>Bowling_runs</th>\n",
       "      <th>Bowling_economy</th>\n",
       "      <th>Bowling_wickets</th>\n",
       "      <th>Bowling_total_runs</th>\n",
       "      <th>Bowling_avg</th>\n",
       "      <th>Bowling_strikerate</th>\n",
       "    </tr>\n",
       "  </thead>\n",
       "  <tbody>\n",
       "    <tr>\n",
       "      <th>135</th>\n",
       "      <td>45.166667</td>\n",
       "      <td>365.0</td>\n",
       "      <td>8.081181</td>\n",
       "      <td>5.0</td>\n",
       "      <td>73.0</td>\n",
       "      <td>54.2</td>\n",
       "      <td>15.498155</td>\n",
       "    </tr>\n",
       "  </tbody>\n",
       "</table>\n",
       "</div>"
      ],
      "text/plain": [
       "     Bowling_over  Bowling_runs  Bowling_economy  Bowling_wickets  \\\n",
       "135     45.166667         365.0         8.081181              5.0   \n",
       "\n",
       "     Bowling_total_runs  Bowling_avg  Bowling_strikerate  \n",
       "135                73.0         54.2           15.498155  "
      ]
     },
     "execution_count": 13,
     "metadata": {},
     "output_type": "execute_result"
    }
   ],
   "source": [
    "df[df[\"Player_name\"]==\"TM Dilshan\"].iloc[:,7:]"
   ]
  },
  {
   "cell_type": "code",
   "execution_count": 14,
   "id": "f9dcaeda-0887-4744-a746-2ef5671cc310",
   "metadata": {},
   "outputs": [
    {
     "data": {
      "text/plain": [
       "array(['HE van der Dussen', 'KW Richardson', 'M Rawat', 'JDS Neesham',\n",
       "       'Navdeep Saini'], dtype=object)"
      ]
     },
     "execution_count": 14,
     "metadata": {},
     "output_type": "execute_result"
    }
   ],
   "source": [
    "b = PlayerSimilarity(df)\n",
    "b.Batsmen_finder(\"JJ Bumrah\")"
   ]
  },
  {
   "cell_type": "code",
   "execution_count": 15,
   "id": "707b1c87-1b8e-4a7b-8546-894de2e1613f",
   "metadata": {},
   "outputs": [
    {
     "data": {
      "text/plain": [
       "array(['SL Malinga', 'A Mishra', 'Rashid Khan', 'Sandeep Sharma',\n",
       "       'DJ Bravo'], dtype=object)"
      ]
     },
     "execution_count": 15,
     "metadata": {},
     "output_type": "execute_result"
    }
   ],
   "source": [
    "b.Bowler_finder(\"JJ Bumrah\")"
   ]
  }
 ],
 "metadata": {
  "kernelspec": {
   "display_name": "Python 3 (ipykernel)",
   "language": "python",
   "name": "python3"
  },
  "language_info": {
   "codemirror_mode": {
    "name": "ipython",
    "version": 3
   },
   "file_extension": ".py",
   "mimetype": "text/x-python",
   "name": "python",
   "nbconvert_exporter": "python",
   "pygments_lexer": "ipython3",
   "version": "3.11.7"
  }
 },
 "nbformat": 4,
 "nbformat_minor": 5
}
