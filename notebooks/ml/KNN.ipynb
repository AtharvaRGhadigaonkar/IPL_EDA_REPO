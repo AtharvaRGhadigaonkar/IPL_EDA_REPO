{
 "cells": [
  {
   "cell_type": "markdown",
   "id": "a136d077-858f-4dab-a189-3ac7b0e9ff9f",
   "metadata": {},
   "source": [
    "### IMPORTS"
   ]
  },
  {
   "cell_type": "code",
   "execution_count": 1,
   "id": "30f244a7-255b-4279-b0ef-ff56ea181158",
   "metadata": {},
   "outputs": [],
   "source": [
    "import numpy as np\n",
    "import pandas as pd\n",
    "from sklearn.neighbors import NearestNeighbors"
   ]
  },
  {
   "cell_type": "code",
   "execution_count": 2,
   "id": "0516ddd2-55e5-4011-b564-cf78f0e71e94",
   "metadata": {},
   "outputs": [],
   "source": [
    "df = pd.read_csv(\"players_stats.csv\")"
   ]
  },
  {
   "cell_type": "code",
   "execution_count": 4,
   "id": "0746a0c8-2830-415c-8577-899f84016805",
   "metadata": {},
   "outputs": [],
   "source": [
    "df.fillna(0,inplace=True)"
   ]
  },
  {
   "cell_type": "code",
   "execution_count": null,
   "id": "1adc11ea-ca48-4d0b-a026-1ef135da7d5a",
   "metadata": {},
   "outputs": [],
   "source": []
  },
  {
   "cell_type": "code",
   "execution_count": 5,
   "id": "466b2de3-6819-4801-be3a-3292de02d195",
   "metadata": {},
   "outputs": [],
   "source": [
    "nbrs = NearestNeighbors(n_neighbors=6).fit(df[['Batting_avg', 'Batting_strikerate',\n",
    "       'Batting_total_runs', 'Batting_boundary', 'Batting_dot',\n",
    "       'Bowling_balls', 'Bowling_over', 'Bowling_runs', 'Bowling_economy',\n",
    "       'Bowling_wickets', 'Bowling_total_runs', 'Bowling_avg',\n",
    "       'Bowling_strikerate']])"
   ]
  },
  {
   "cell_type": "code",
   "execution_count": 6,
   "id": "cbc19554-458b-433a-9df5-5e5ade36849e",
   "metadata": {},
   "outputs": [
    {
     "data": {
      "text/plain": [
       "Index(['Player_name', 'Batting_avg', 'Batting_strikerate',\n",
       "       'Batting_total_runs', 'Batting_boundary', 'Batting_dot',\n",
       "       'Bowling_balls', 'Bowling_over', 'Bowling_runs', 'Bowling_economy',\n",
       "       'Bowling_wickets', 'Bowling_total_runs', 'Bowling_avg',\n",
       "       'Bowling_strikerate'],\n",
       "      dtype='object')"
      ]
     },
     "execution_count": 6,
     "metadata": {},
     "output_type": "execute_result"
    }
   ],
   "source": [
    "df.columns"
   ]
  },
  {
   "cell_type": "code",
   "execution_count": 7,
   "id": "dd113a6e-825a-4320-83f3-1872eade4652",
   "metadata": {},
   "outputs": [],
   "source": [
    "query_player = df[df['Player_name'] == 'V Kohli'][['Batting_avg', 'Batting_strikerate',\n",
    "       'Batting_total_runs', 'Batting_boundary', 'Batting_dot',\n",
    "       'Bowling_balls', 'Bowling_over', 'Bowling_runs', 'Bowling_economy',\n",
    "       'Bowling_wickets', 'Bowling_total_runs', 'Bowling_avg',\n",
    "       'Bowling_strikerate']]"
   ]
  },
  {
   "cell_type": "code",
   "execution_count": 8,
   "id": "902f1856-63dc-4f6f-9128-cc90bdee961b",
   "metadata": {},
   "outputs": [],
   "source": [
    "distances, indices = nbrs.kneighbors(query_player)"
   ]
  },
  {
   "cell_type": "code",
   "execution_count": 10,
   "id": "f116a5f3-043f-4520-9357-054cdbf9b55f",
   "metadata": {},
   "outputs": [
    {
     "name": "stdout",
     "output_type": "stream",
     "text": [
      "5 most similar players: ['S Dhawan', 'RG Sharma', 'DA Warner', 'SK Raina', 'MS Dhoni']\n"
     ]
    }
   ],
   "source": [
    "similar_players_indices = indices[0][1:]  # Exclude the first one (itself)\n",
    "\n",
    "# Get the names of the similar players\n",
    "most_similar_players = df.iloc[similar_players_indices]['Player_name'].tolist()\n",
    "1\n",
    "print(\"5 most similar players:\", most_similar_players)"
   ]
  },
  {
   "cell_type": "code",
   "execution_count": null,
   "id": "629959b8-9e2a-439c-8e29-7ba8ac5a8548",
   "metadata": {},
   "outputs": [],
   "source": [
    "class K"
   ]
  },
  {
   "cell_type": "code",
   "execution_count": null,
   "id": "0f7df6e6-508a-4e7d-a023-b29fb4912111",
   "metadata": {},
   "outputs": [],
   "source": []
  },
  {
   "cell_type": "code",
   "execution_count": null,
   "id": "154b549a-660f-4b59-8099-6b9eb5eed7d8",
   "metadata": {},
   "outputs": [],
   "source": []
  },
  {
   "cell_type": "code",
   "execution_count": null,
   "id": "188acbcc-8622-4ee0-8f23-814dfadf9159",
   "metadata": {},
   "outputs": [],
   "source": []
  },
  {
   "cell_type": "code",
   "execution_count": null,
   "id": "ec678f51-59ed-487f-a796-ea82f8905432",
   "metadata": {},
   "outputs": [],
   "source": []
  },
  {
   "cell_type": "code",
   "execution_count": null,
   "id": "b9941770-cbac-481e-906a-8a6396e54393",
   "metadata": {},
   "outputs": [],
   "source": []
  }
 ],
 "metadata": {
  "kernelspec": {
   "display_name": "Python 3 (ipykernel)",
   "language": "python",
   "name": "python3"
  },
  "language_info": {
   "codemirror_mode": {
    "name": "ipython",
    "version": 3
   },
   "file_extension": ".py",
   "mimetype": "text/x-python",
   "name": "python",
   "nbconvert_exporter": "python",
   "pygments_lexer": "ipython3",
   "version": "3.11.7"
  }
 },
 "nbformat": 4,
 "nbformat_minor": 5
}
