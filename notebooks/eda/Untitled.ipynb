{
 "cells": [
  {
   "cell_type": "code",
   "execution_count": 1,
   "id": "f23f906b-207c-4b3c-ad7b-d108732041c8",
   "metadata": {},
   "outputs": [],
   "source": [
    "import numpy as np\n",
    "import pandas as pd\n",
    "import seaborn as sns"
   ]
  },
  {
   "cell_type": "code",
   "execution_count": 2,
   "id": "6680b7ab-22c8-4672-80fa-0a6331564946",
   "metadata": {},
   "outputs": [],
   "source": [
    "data = pd.read_csv(\"../../data/processed/clean_data.csv\")"
   ]
  },
  {
   "cell_type": "code",
   "execution_count": null,
   "id": "38cd823b-f807-4729-a7bd-d9ced45e9c8d",
   "metadata": {},
   "outputs": [],
   "source": [
    "# Define parameters\n",
    "x <- 3\n",
    "size <- 5  \n",
    "prob <- 0.6  \n",
    "\n",
    "\n",
    "# Calculate probability of winning exactly 3 out of 5 matches\n",
    "probability <- dbinom(x, size, prob)\n",
    "\n",
    "# Output the result\n",
    "probability"
   ]
  }
 ],
 "metadata": {
  "kernelspec": {
   "display_name": "Python 3 (ipykernel)",
   "language": "python",
   "name": "python3"
  },
  "language_info": {
   "codemirror_mode": {
    "name": "ipython",
    "version": 3
   },
   "file_extension": ".py",
   "mimetype": "text/x-python",
   "name": "python",
   "nbconvert_exporter": "python",
   "pygments_lexer": "ipython3",
   "version": "3.11.7"
  }
 },
 "nbformat": 4,
 "nbformat_minor": 5
}
