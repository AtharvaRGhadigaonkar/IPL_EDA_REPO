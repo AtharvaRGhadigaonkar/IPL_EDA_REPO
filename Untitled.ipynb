{
 "cells": [
  {
   "cell_type": "markdown",
   "id": "f4eb967b-9d09-4995-a621-759a244bfbe2",
   "metadata": {},
   "source": [
    "**jdwajdajwdjawj**"
   ]
  },
  {
   "cell_type": "code",
   "execution_count": 1,
   "id": "5e2c1449-793d-495f-a6c6-a442a6bc7ece",
   "metadata": {},
   "outputs": [],
   "source": [
    "import numpy as np"
   ]
  },
  {
   "cell_type": "code",
   "execution_count": 2,
   "id": "c98b67f8-5a69-42e9-9ac3-8aa83b2f188e",
   "metadata": {},
   "outputs": [],
   "source": [
    "hello = np.array([1,2,3,4,5])"
   ]
  },
  {
   "cell_type": "code",
   "execution_count": null,
   "id": "a9b1c796-9dba-4585-b5db-d31785a39f20",
   "metadata": {},
   "outputs": [],
   "source": []
  }
 ],
 "metadata": {
  "kernelspec": {
   "display_name": "Python 3 (ipykernel)",
   "language": "python",
   "name": "python3"
  },
  "language_info": {
   "codemirror_mode": {
    "name": "ipython",
    "version": 3
   },
   "file_extension": ".py",
   "mimetype": "text/x-python",
   "name": "python",
   "nbconvert_exporter": "python",
   "pygments_lexer": "ipython3",
   "version": "3.11.7"
  }
 },
 "nbformat": 4,
 "nbformat_minor": 5
}
