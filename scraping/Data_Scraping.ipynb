{
 "cells": [
  {
   "cell_type": "code",
   "execution_count": 1,
   "id": "eb42d076-8122-43ac-9360-42386f46abd6",
   "metadata": {},
   "outputs": [],
   "source": [
    "import numpy as np\n",
    "import pandas as pd\n",
    "from bs4 import BeautifulSoup\n",
    "import requests"
   ]
  },
  {
   "cell_type": "code",
   "execution_count": 2,
   "id": "d8d66220-c594-46b4-97ac-0b61c8a33339",
   "metadata": {},
   "outputs": [],
   "source": [
    "url = \"https://www.espncricinfo.com/series/indian-premier-league-2024-1410320/match-schedule-fixtures-and-results\"\n",
    "webpage = requests.get(url).text"
   ]
  },
  {
   "cell_type": "code",
   "execution_count": 12,
   "id": "07fb9383-9ec5-4060-bbc6-a4255d2dee1c",
   "metadata": {},
   "outputs": [],
   "source": [
    "soup = BeautifulSoup(webpage,\"lxml\")"
   ]
  },
  {
   "cell_type": "code",
   "execution_count": 13,
   "id": "e64f3417-3796-4561-a832-72544358ad5a",
   "metadata": {},
   "outputs": [
    {
     "name": "stdout",
     "output_type": "stream",
     "text": [
      "74\n",
      "74 74\n",
      "74\n"
     ]
    }
   ],
   "source": [
    "results =[]\n",
    "team1=[]\n",
    "team2=[]\n",
    "playing_time=[]\n",
    "location=[]\n",
    "\n",
    "\n",
    "import re\n",
    "for i in soup.find_all(\"div\",class_=\"ds-grow ds-px-4 ds-border-r ds-border-line-default-translucent\"):\n",
    "    #Result & NoResult \n",
    "    j = i.find(\"span\",class_=\"ds-text-tight-s ds-font-bold ds-uppercase ds-leading-5\")\n",
    "    results.append(j.text)\n",
    "    #Day and Night\n",
    "    k = i.find(\"span\",class_=\"ds-text-tight-s ds-font-medium ds-text-typo\")\n",
    "    playing_time.append(k.text.split()[-1])\n",
    "    #Team1 and Team2\n",
    "    n=[]\n",
    "    for l in i.find_all(\"p\",class_=\"ds-text-tight-m ds-font-bold ds-capitalize ds-truncate\"):\n",
    "        n.append(l.text)\n",
    "    team1.append(n[0])\n",
    "    team2.append(n[1])\n",
    "    #Location\n",
    "    for j in i.find_all(\"div\",class_=\"ds-text-tight-s ds-font-regular ds-truncate ds-text-typo-mid3\"):\n",
    "        pattern = r'•\\s([^,]+),'\n",
    "        match1 = re.search(pattern, j.text)\n",
    "        if match1:\n",
    "            result1 = match1.group(1).strip()\n",
    "            location.append(result1)\n",
    "    \n",
    "\n",
    "print(len(results))\n",
    "print(len(team1),len(team2))\n",
    "print(len(location))"
   ]
  },
  {
   "cell_type": "code",
   "execution_count": null,
   "id": "c330bf37-7a18-41a5-8576-55d27a21df5b",
   "metadata": {},
   "outputs": [],
   "source": []
  }
 ],
 "metadata": {
  "kernelspec": {
   "display_name": "Python 3 (ipykernel)",
   "language": "python",
   "name": "python3"
  },
  "language_info": {
   "codemirror_mode": {
    "name": "ipython",
    "version": 3
   },
   "file_extension": ".py",
   "mimetype": "text/x-python",
   "name": "python",
   "nbconvert_exporter": "python",
   "pygments_lexer": "ipython3",
   "version": "3.11.7"
  }
 },
 "nbformat": 4,
 "nbformat_minor": 5
}
